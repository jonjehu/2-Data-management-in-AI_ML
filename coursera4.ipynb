{
 "cells": [
  {
   "cell_type": "code",
   "execution_count": 15,
   "id": "a31c6b9d",
   "metadata": {},
   "outputs": [
    {
     "name": "stdout",
     "output_type": "stream",
     "text": [
      "Done.\n"
     ]
    }
   ],
   "source": [
    "import pandas as pd\n",
    "from sklearn.model_selection import train_test_split\n",
    "from sklearn.linear_model import LinearRegression\n",
    "from sklearn.ensemble import RandomForestRegressor\n",
    "from sklearn.metrics import mean_squared_error, r2_score\n",
    "from sklearn.preprocessing import LabelEncoder, StandardScaler\n",
    "\n",
    "print(\"Done.\")"
   ]
  },
  {
   "cell_type": "code",
   "execution_count": 16,
   "id": "cfeb654d",
   "metadata": {},
   "outputs": [
    {
     "data": {
      "text/html": [
       "<div>\n",
       "<style scoped>\n",
       "    .dataframe tbody tr th:only-of-type {\n",
       "        vertical-align: middle;\n",
       "    }\n",
       "\n",
       "    .dataframe tbody tr th {\n",
       "        vertical-align: top;\n",
       "    }\n",
       "\n",
       "    .dataframe thead th {\n",
       "        text-align: right;\n",
       "    }\n",
       "</style>\n",
       "<table border=\"1\" class=\"dataframe\">\n",
       "  <thead>\n",
       "    <tr style=\"text-align: right;\">\n",
       "      <th></th>\n",
       "      <th>Unnamed: 0</th>\n",
       "      <th>time</th>\n",
       "      <th>refnum</th>\n",
       "      <th>nri</th>\n",
       "      <th>price</th>\n",
       "      <th>type</th>\n",
       "      <th>details</th>\n",
       "      <th>company</th>\n",
       "      <th>contact_number</th>\n",
       "      <th>request</th>\n",
       "      <th>old_price</th>\n",
       "      <th>actual_price</th>\n",
       "      <th>location</th>\n",
       "      <th>type2</th>\n",
       "      <th>property_type</th>\n",
       "      <th>bedroom</th>\n",
       "      <th>company_link</th>\n",
       "      <th>contact_number_cleaned</th>\n",
       "    </tr>\n",
       "  </thead>\n",
       "  <tbody>\n",
       "    <tr>\n",
       "      <th>0</th>\n",
       "      <td>0</td>\n",
       "      <td>2025-03-15 13:25:37.952669</td>\n",
       "      <td>1</td>\n",
       "      <td>0</td>\n",
       "      <td>430000</td>\n",
       "      <td>3 Bedroom Semi-Detached House For Sale in Qormi</td>\n",
       "      <td>Semi-detached house of character in a sought-a...</td>\n",
       "      <td>sensara-malta</td>\n",
       "      <td>tel:+356 9998 6779</td>\n",
       "      <td>https://www.propertymarket.com.mt/view/3-bedro...</td>\n",
       "      <td>430000</td>\n",
       "      <td>430000</td>\n",
       "      <td>Qormi</td>\n",
       "      <td>3 Bedroom Semi-Detached House</td>\n",
       "      <td>Semi-Detached House</td>\n",
       "      <td>3</td>\n",
       "      <td>https://www.propertymarket.com.mt/company/sens...</td>\n",
       "      <td>99986779</td>\n",
       "    </tr>\n",
       "    <tr>\n",
       "      <th>1</th>\n",
       "      <td>1</td>\n",
       "      <td>2025-03-15 13:25:38.667311</td>\n",
       "      <td>1</td>\n",
       "      <td>1</td>\n",
       "      <td>400000</td>\n",
       "      <td>2 Bedroom Apartment For Sale in Swieqi</td>\n",
       "      <td>SWIEQI: A 3rd floor very bright and FULLY FURN...</td>\n",
       "      <td>phoenix</td>\n",
       "      <td>tel:99821251</td>\n",
       "      <td>https://www.propertymarket.com.mt/view/2-bedro...</td>\n",
       "      <td>400000</td>\n",
       "      <td>400000</td>\n",
       "      <td>Swieqi</td>\n",
       "      <td>2 Bedroom Apartment</td>\n",
       "      <td>Apartment</td>\n",
       "      <td>2</td>\n",
       "      <td>https://www.propertymarket.com.mt/company/phoenix</td>\n",
       "      <td>99821251</td>\n",
       "    </tr>\n",
       "  </tbody>\n",
       "</table>\n",
       "</div>"
      ],
      "text/plain": [
       "   Unnamed: 0                        time  refnum  nri   price  \\\n",
       "0           0  2025-03-15 13:25:37.952669       1    0  430000   \n",
       "1           1  2025-03-15 13:25:38.667311       1    1  400000   \n",
       "\n",
       "                                              type  \\\n",
       "0  3 Bedroom Semi-Detached House For Sale in Qormi   \n",
       "1           2 Bedroom Apartment For Sale in Swieqi   \n",
       "\n",
       "                                             details        company  \\\n",
       "0  Semi-detached house of character in a sought-a...  sensara-malta   \n",
       "1  SWIEQI: A 3rd floor very bright and FULLY FURN...        phoenix   \n",
       "\n",
       "       contact_number                                            request  \\\n",
       "0  tel:+356 9998 6779  https://www.propertymarket.com.mt/view/3-bedro...   \n",
       "1        tel:99821251  https://www.propertymarket.com.mt/view/2-bedro...   \n",
       "\n",
       "   old_price  actual_price location                           type2  \\\n",
       "0     430000        430000    Qormi  3 Bedroom Semi-Detached House    \n",
       "1     400000        400000   Swieqi            2 Bedroom Apartment    \n",
       "\n",
       "         property_type  bedroom  \\\n",
       "0  Semi-Detached House        3   \n",
       "1            Apartment        2   \n",
       "\n",
       "                                        company_link  contact_number_cleaned  \n",
       "0  https://www.propertymarket.com.mt/company/sens...                99986779  \n",
       "1  https://www.propertymarket.com.mt/company/phoenix                99821251  "
      ]
     },
     "execution_count": 16,
     "metadata": {},
     "output_type": "execute_result"
    }
   ],
   "source": [
    "# read the csv file\n",
    "df = pd.read_csv(r'.\\prop_for_sale\\prop_for_sale_20250315_m.csv', sep=\",\", encoding=\"utf-8\")\n",
    "df.head(2)\n"
   ]
  },
  {
   "cell_type": "code",
   "execution_count": 17,
   "id": "65d39433",
   "metadata": {},
   "outputs": [
    {
     "name": "stdout",
     "output_type": "stream",
     "text": [
      "Initial DataFrame:\n",
      "   property_seller  property_price property_location        property_type  \\\n",
      "0    sensara-malta          430000             Qormi  Semi-Detached House   \n",
      "1          phoenix          400000            Swieqi            Apartment   \n",
      "2  316-real-estate          318000            Zabbar            Penthouse   \n",
      "3   property-giant          425000             Gzira           Maisonette   \n",
      "4         alliance          310000             Qawra            Apartment   \n",
      "\n",
      "   property_rooms  \n",
      "0               3  \n",
      "1               2  \n",
      "2               2  \n",
      "3               3  \n",
      "4               3  \n",
      "\n",
      "Column Names: ['property_seller', 'property_price', 'property_location', 'property_type', 'property_rooms']\n"
     ]
    }
   ],
   "source": [
    "\n",
    "df = df.drop(columns=['Unnamed: 0', 'time', 'refnum', 'nri', 'price', 'type', 'details',\n",
    "                     'contact_number', 'request', 'old_price',\n",
    "                     'type2', 'company_link', 'contact_number_cleaned'])\n",
    "\n",
    "df = df[(df['actual_price'] != 0) & (df['bedroom'] != 0)]\n",
    "\n",
    "df.columns = [\"property_seller\", \"property_price\", \"property_location\", \"property_type\", \"property_rooms\"]\n",
    "\n",
    "print(\"Initial DataFrame:\")\n",
    "print(df.head())\n",
    "print(\"\\nColumn Names:\", df.columns.tolist())\n"
   ]
  },
  {
   "cell_type": "code",
   "execution_count": 18,
   "id": "a46c4018",
   "metadata": {},
   "outputs": [
    {
     "name": "stdout",
     "output_type": "stream",
     "text": [
      "\n",
      "DataFrame after Label Encoding:\n",
      "   property_seller  property_price  property_location  property_type  \\\n",
      "0               40          430000                 76             27   \n",
      "1               23          400000                 93              1   \n",
      "2                0          318000                106             24   \n",
      "3               26          425000                 43             20   \n",
      "4                1          310000                 75              1   \n",
      "\n",
      "   property_rooms  \n",
      "0               3  \n",
      "1               2  \n",
      "2               2  \n",
      "3               3  \n",
      "4               3  \n"
     ]
    }
   ],
   "source": [
    "# --- Data Preprocessing ---\n",
    "\n",
    "# Handle categorical features using Label Encoding (for simplicity in this example)\n",
    "# For a more robust solution, One-Hot Encoding would be preferred.\n",
    "label_encoders = {}\n",
    "for column in ['property_seller', 'property_location', 'property_type']:\n",
    "    le = LabelEncoder()\n",
    "    df[column] = le.fit_transform(df[column])\n",
    "    label_encoders[column] = le\n",
    "\n",
    "print(\"\\nDataFrame after Label Encoding:\")\n",
    "print(df.head())\n"
   ]
  },
  {
   "cell_type": "code",
   "execution_count": 29,
   "id": "dba58da1",
   "metadata": {},
   "outputs": [
    {
     "data": {
      "text/html": [
       "<div>\n",
       "<style scoped>\n",
       "    .dataframe tbody tr th:only-of-type {\n",
       "        vertical-align: middle;\n",
       "    }\n",
       "\n",
       "    .dataframe tbody tr th {\n",
       "        vertical-align: top;\n",
       "    }\n",
       "\n",
       "    .dataframe thead th {\n",
       "        text-align: right;\n",
       "    }\n",
       "</style>\n",
       "<table border=\"1\" class=\"dataframe\">\n",
       "  <thead>\n",
       "    <tr style=\"text-align: right;\">\n",
       "      <th></th>\n",
       "      <th>property_seller</th>\n",
       "    </tr>\n",
       "  </thead>\n",
       "  <tbody>\n",
       "    <tr>\n",
       "      <th>0</th>\n",
       "      <td>40</td>\n",
       "    </tr>\n",
       "    <tr>\n",
       "      <th>1</th>\n",
       "      <td>23</td>\n",
       "    </tr>\n",
       "    <tr>\n",
       "      <th>2</th>\n",
       "      <td>0</td>\n",
       "    </tr>\n",
       "    <tr>\n",
       "      <th>3</th>\n",
       "      <td>26</td>\n",
       "    </tr>\n",
       "    <tr>\n",
       "      <th>4</th>\n",
       "      <td>1</td>\n",
       "    </tr>\n",
       "    <tr>\n",
       "      <th>...</th>\n",
       "      <td>...</td>\n",
       "    </tr>\n",
       "    <tr>\n",
       "      <th>39403</th>\n",
       "      <td>14</td>\n",
       "    </tr>\n",
       "    <tr>\n",
       "      <th>39404</th>\n",
       "      <td>14</td>\n",
       "    </tr>\n",
       "    <tr>\n",
       "      <th>39406</th>\n",
       "      <td>14</td>\n",
       "    </tr>\n",
       "    <tr>\n",
       "      <th>39407</th>\n",
       "      <td>14</td>\n",
       "    </tr>\n",
       "    <tr>\n",
       "      <th>39408</th>\n",
       "      <td>14</td>\n",
       "    </tr>\n",
       "  </tbody>\n",
       "</table>\n",
       "<p>32777 rows × 1 columns</p>\n",
       "</div>"
      ],
      "text/plain": [
       "       property_seller\n",
       "0                   40\n",
       "1                   23\n",
       "2                    0\n",
       "3                   26\n",
       "4                    1\n",
       "...                ...\n",
       "39403               14\n",
       "39404               14\n",
       "39406               14\n",
       "39407               14\n",
       "39408               14\n",
       "\n",
       "[32777 rows x 1 columns]"
      ]
     },
     "execution_count": 29,
     "metadata": {},
     "output_type": "execute_result"
    }
   ],
   "source": [
    "df[[\"property_seller\"]]"
   ]
  },
  {
   "cell_type": "code",
   "execution_count": 19,
   "id": "7fd4bf97",
   "metadata": {},
   "outputs": [],
   "source": [
    "# Define features (X) and target (y)\n",
    "X = df.drop('property_price', axis=1)\n",
    "y = df['property_price']\n"
   ]
  },
  {
   "cell_type": "code",
   "execution_count": 20,
   "id": "6865d235",
   "metadata": {},
   "outputs": [],
   "source": [
    "# Split the data into training and testing sets\n",
    "X_train, X_test, y_train, y_test = train_test_split(X, y, test_size=0.2, random_state=42)\n"
   ]
  },
  {
   "cell_type": "code",
   "execution_count": 21,
   "id": "a86b64fc",
   "metadata": {},
   "outputs": [],
   "source": [
    "# Scale numerical features (optional but often beneficial for Linear Regression)\n",
    "scaler = StandardScaler()\n",
    "X_train_scaled = scaler.fit_transform(X_train)\n",
    "X_test_scaled = scaler.transform(X_test)\n"
   ]
  },
  {
   "cell_type": "code",
   "execution_count": 22,
   "id": "727023b6",
   "metadata": {},
   "outputs": [
    {
     "name": "stdout",
     "output_type": "stream",
     "text": [
      "\n",
      "Scaled Training Data:\n",
      "   property_seller  property_location  property_type  property_rooms\n",
      "0         0.339456           0.357201      -0.951344       -0.286466\n",
      "1         1.195640           0.888327       0.955781       -0.286466\n",
      "2        -0.445378           1.450696       1.702047        0.115709\n",
      "3        -0.231333           0.919570      -0.951344        0.115709\n",
      "4         1.266988          -0.080197      -0.951344        0.115709\n"
     ]
    }
   ],
   "source": [
    "# Convert scaled data back to DataFrame for easier handling (optional)\n",
    "X_train_scaled_df = pd.DataFrame(X_train_scaled, columns=X_train.columns)\n",
    "X_test_scaled_df = pd.DataFrame(X_test_scaled, columns=X_test.columns)\n",
    "\n",
    "print(\"\\nScaled Training Data:\")\n",
    "print(X_train_scaled_df.head())\n"
   ]
  },
  {
   "cell_type": "code",
   "execution_count": 23,
   "id": "eafa788a",
   "metadata": {},
   "outputs": [],
   "source": [
    "# --- Model Training ---\n",
    "\n",
    "# Linear Regression\n",
    "linear_model = LinearRegression()\n",
    "linear_model.fit(X_train_scaled_df, y_train)\n",
    "linear_predictions = linear_model.predict(X_test_scaled_df)\n",
    "\n",
    "# Random Forest Regression\n",
    "rf_model = RandomForestRegressor(random_state=42)\n",
    "rf_model.fit(X_train, y_train) # Random Forest can often handle unscaled data well\n",
    "rf_predictions = rf_model.predict(X_test)\n"
   ]
  },
  {
   "cell_type": "code",
   "execution_count": 24,
   "id": "a891bf85",
   "metadata": {},
   "outputs": [
    {
     "name": "stdout",
     "output_type": "stream",
     "text": [
      "\n",
      "Linear Regression Evaluation:\n",
      "Mean Squared Error: 516170490884.78\n",
      "R-squared: 0.10\n"
     ]
    }
   ],
   "source": [
    "# --- Model Evaluation ---\n",
    "\n",
    "# Evaluate Linear Regression\n",
    "linear_mse = mean_squared_error(y_test, linear_predictions)\n",
    "linear_r2 = r2_score(y_test, linear_predictions)\n",
    "print(\"\\nLinear Regression Evaluation:\")\n",
    "print(f\"Mean Squared Error: {linear_mse:.2f}\")\n",
    "print(f\"R-squared: {linear_r2:.2f}\")\n"
   ]
  },
  {
   "cell_type": "code",
   "execution_count": 25,
   "id": "2fff18e7",
   "metadata": {},
   "outputs": [
    {
     "name": "stdout",
     "output_type": "stream",
     "text": [
      "\n",
      "Random Forest Regression Evaluation:\n",
      "Mean Squared Error: 276386168551.26\n",
      "R-squared: 0.52\n"
     ]
    }
   ],
   "source": [
    "# Evaluate Random Forest Regression\n",
    "rf_mse = mean_squared_error(y_test, rf_predictions)\n",
    "rf_r2 = r2_score(y_test, rf_predictions)\n",
    "print(\"\\nRandom Forest Regression Evaluation:\")\n",
    "print(f\"Mean Squared Error: {rf_mse:.2f}\")\n",
    "print(f\"R-squared: {rf_r2:.2f}\")"
   ]
  },
  {
   "cell_type": "code",
   "execution_count": null,
   "id": "b51bb214",
   "metadata": {
    "vscode": {
     "languageId": "markdown"
    }
   },
   "outputs": [],
   "source": [
    "The high Mean Squared Error (MSE) in both cases (Linear Regression and Random Forest Regression) could be due to several reasons:\n",
    "\n",
    "1. **Feature Scaling Issues**:\n",
    "    - While scaling was applied to the features for Linear Regression, it might not have been sufficient to improve the model's performance. Random Forest, on the other hand, does not require scaling, but the features might still not be informative enough.\n",
    "\n",
    "2. **Feature Selection**:\n",
    "    - The features used (`property_seller`, `property_location`, `property_type`, `property_rooms`) might not be sufficient to explain the variability in the target variable (`property_price`). Important features like `property_area`, `property_age`, or other relevant attributes might be missing.\n",
    "\n",
    "3. **Outliers**:\n",
    "    - The dataset might contain outliers in the `property_price` column, which can significantly increase the MSE. For example, properties with extremely high or low prices compared to the rest of the dataset can skew the results.\n",
    "\n",
    "4. **Non-linearity**:\n",
    "    - Linear Regression assumes a linear relationship between features and the target variable. If the relationship is non-linear, Linear Regression will perform poorly. Random Forest can handle non-linear relationships better, but it might still struggle if the data is noisy or lacks sufficient features.\n",
    "\n",
    "5. **Data Quality**:\n",
    "    - The dataset might have issues such as missing values, incorrect data, or imbalanced data (e.g., too many properties in one price range and very few in others).\n",
    "\n",
    "6. **Overfitting or Underfitting**:\n",
    "    - Random Forest might be overfitting the training data if the number of trees or depth is too high. Conversely, Linear Regression might be underfitting if the model is too simple to capture the complexity of the data.\n",
    "\n",
    "### Suggestions to Improve the Model:\n",
    "1. **Feature Engineering**:\n",
    "    - Add more relevant features that could impact property prices, such as `property_area`, `property_age`, or proximity to amenities.\n",
    "\n",
    "2. **Outlier Detection**:\n",
    "    - Identify and handle outliers in the `property_price` column.\n",
    "\n",
    "3. **Data Transformation**:\n",
    "    - Apply transformations (e.g., log transformation) to the target variable if it has a skewed distribution.\n",
    "\n",
    "4. **Model Tuning**:\n",
    "    - For Random Forest, tune hyperparameters like the number of trees, maximum depth, and minimum samples per leaf.\n",
    "\n",
    "5. **Try Other Models**:\n",
    "    - Experiment with other models like Gradient Boosting, XGBoost, or Neural Networks, which might perform better on this type of data.\n",
    "\n",
    "6. **Cross-Validation**:\n",
    "    - Use cross-validation to ensure the model generalizes well to unseen data.\n",
    "\n",
    "By addressing these issues, you can potentially reduce the MSE and improve the model's performance."
   ]
  },
  {
   "cell_type": "code",
   "execution_count": 31,
   "id": "9c7aae3b",
   "metadata": {},
   "outputs": [
    {
     "name": "stdout",
     "output_type": "stream",
     "text": [
      "Linear Regression Prediction: 828141.33\n",
      "Random Forest Prediction: 1081775.00\n"
     ]
    }
   ],
   "source": [
    "# Example input data (new property details)\n",
    "new_data = pd.DataFrame({\n",
    "    'property_seller': [10],\n",
    "    'property_location': [57],\n",
    "    'property_type': [24],\n",
    "    'property_rooms': [4]\n",
    "})\n",
    "\n",
    "# Scale the new data using the same scaler used for training\n",
    "new_data_scaled = scaler.transform(new_data)\n",
    "\n",
    "# Ensure the input data has the same feature names as the training data\n",
    "new_data_scaled = pd.DataFrame(new_data_scaled, columns=X_train.columns)\n",
    "\n",
    "# Predict using Linear Regression\n",
    "linear_prediction = linear_model.predict(new_data_scaled)\n",
    "print(f\"Linear Regression Prediction: {linear_prediction[0]:.2f}\")\n",
    "\n",
    "# Predict using Random Forest (no scaling needed)\n",
    "rf_prediction = rf_model.predict(new_data)\n",
    "print(f\"Random Forest Prediction: {rf_prediction[0]:.2f}\")"
   ]
  },
  {
   "cell_type": "code",
   "execution_count": 32,
   "id": "81a277fa",
   "metadata": {},
   "outputs": [
    {
     "data": {
      "image/png": "[encoded data removed]",
      "text/plain": [
       "<Figure size 1000x600 with 1 Axes>"
      ]
     },
     "metadata": {},
     "output_type": "display_data"
    }
   ],
   "source": [
    "import matplotlib.pyplot as plt\n",
    "\n",
    "# Scatter plot of actual vs. predicted values\n",
    "plt.figure(figsize=(10, 6))\n",
    "plt.scatter(y_test, rf_predictions, alpha=0.5, label=\"Predicted vs Actual\", color=\"blue\")\n",
    "plt.plot([y_test.min(), y_test.max()], [y_test.min(), y_test.max()], color=\"red\", linestyle=\"--\", label=\"Perfect Fit\")\n",
    "\n",
    "plt.title(\"Random Forest Model: Actual vs Predicted\")\n",
    "plt.xlabel(\"Actual Property Prices\")\n",
    "plt.ylabel(\"Predicted Property Prices\")\n",
    "plt.legend()\n",
    "plt.grid(True)\n",
    "plt.show()"
   ]
  }
 ],
 "metadata": {
  "kernelspec": {
   "display_name": "venv",
   "language": "python",
   "name": "python3"
  },
  "language_info": {
   "codemirror_mode": {
    "name": "ipython",
    "version": 3
   },
   "file_extension": ".py",
   "mimetype": "text/x-python",
   "name": "python",
   "nbconvert_exporter": "python",
   "pygments_lexer": "ipython3",
   "version": "3.12.5"
  }
 },
 "nbformat": 4,
 "nbformat_minor": 5
}
